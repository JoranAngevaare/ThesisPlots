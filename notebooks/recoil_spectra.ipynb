{
 "cells": [
  {
   "cell_type": "code",
   "execution_count": 1,
   "id": "d72ccc2a",
   "metadata": {},
   "outputs": [],
   "source": [
    "%run ../thesis_plots/recoil_rates/recoil_rates.py\n",
    "import thesis_plots\n",
    "thesis_plots.setup_plt()"
   ]
  },
  {
   "cell_type": "code",
   "execution_count": 2,
   "id": "c44a22e5",
   "metadata": {},
   "outputs": [],
   "source": [
    "b=Bla()"
   ]
  },
  {
   "cell_type": "code",
   "execution_count": null,
   "id": "d493d0f9",
   "metadata": {
    "scrolled": false
   },
   "outputs": [],
   "source": [
    "b.plot_recoil_rates()\n",
    "thesis_plots.save_fig('recoil_rates')"
   ]
  },
  {
   "cell_type": "code",
   "execution_count": null,
   "id": "91136a3d",
   "metadata": {
    "scrolled": false
   },
   "outputs": [],
   "source": [
    "b.plot_velocities()\n",
    "thesis_plots.save_fig('velocities')"
   ]
  }
 ],
 "metadata": {
  "kernelspec": {
   "display_name": "Python 3 (ipykernel)",
   "language": "python",
   "name": "python3"
  },
  "language_info": {
   "codemirror_mode": {
    "name": "ipython",
    "version": 3
   },
   "file_extension": ".py",
   "mimetype": "text/x-python",
   "name": "python",
   "nbconvert_exporter": "python",
   "pygments_lexer": "ipython3",
   "version": "3.10.4"
  }
 },
 "nbformat": 4,
 "nbformat_minor": 5
}
