{
 "cells": [
  {
   "cell_type": "code",
   "execution_count": null,
   "id": "6ddfb2f5",
   "metadata": {},
   "outputs": [],
   "source": [
    "import thesis_plots\n",
    "import matplotlib.pyplot as plt"
   ]
  },
  {
   "cell_type": "code",
   "execution_count": null,
   "id": "fe455ba3",
   "metadata": {},
   "outputs": [],
   "source": [
    "thesis_plots.setup_plt()"
   ]
  },
  {
   "cell_type": "code",
   "execution_count": null,
   "id": "6f0fa6f0",
   "metadata": {},
   "outputs": [],
   "source": [
    "rotation_curve = thesis_plots.RotationCurve()\n",
    "rotation_curve.plot_rotation_curve()\n",
    "plt.show()\n",
    "rotation_curve.plot_rotation_curve_fancy()"
   ]
  },
  {
   "cell_type": "code",
   "execution_count": null,
   "id": "9bc44c0a",
   "metadata": {},
   "outputs": [],
   "source": []
  }
 ],
 "metadata": {
  "kernelspec": {
   "display_name": "Python 3 (ipykernel)",
   "language": "python",
   "name": "python3"
  },
  "language_info": {
   "codemirror_mode": {
    "name": "ipython",
    "version": 3
   },
   "file_extension": ".py",
   "mimetype": "text/x-python",
   "name": "python",
   "nbconvert_exporter": "python",
   "pygments_lexer": "ipython3",
   "version": "3.10.4"
  }
 },
 "nbformat": 4,
 "nbformat_minor": 5
}
