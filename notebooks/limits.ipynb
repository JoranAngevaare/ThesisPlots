{
 "cells": [
  {
   "cell_type": "code",
   "execution_count": 1,
   "id": "707324e4",
   "metadata": {
    "pycharm": {
     "name": "#%%\n"
    }
   },
   "outputs": [],
   "source": [
    "import scipy.stats\n",
    "import numpy as np\n",
    "import matplotlib.pyplot as plt\n",
    "import pandas as pd\n",
    "import wimprates\n",
    "import os\n",
    "\n",
    "import thesis_plots\n",
    "from thesis_plots import mathrm\n",
    "from thesis_plots.recoil_rates import nu, LimitSetter, LZ\n",
    "\n",
    "# Make plots in preferred style using latex, but can safely be disabled\n",
    "thesis_plots.setup_plt()"
   ]
  },
  {
   "cell_type": "markdown",
   "id": "442387e1",
   "metadata": {},
   "source": [
    "# Set limits\n",
    "For this we need two things:\n",
    " - a detector with some exposure, detector response (efficiency x ROI)\n",
    " - a model of the expected wimp rates"
   ]
  },
  {
   "cell_type": "code",
   "execution_count": 2,
   "id": "9f85631b",
   "metadata": {
    "pycharm": {
     "name": "#%%\n"
    }
   },
   "outputs": [],
   "source": [
    "detector = LZ()\n",
    "halo_model = wimprates.StandardHaloModel(v_0=238*nu.km/nu.s)"
   ]
  },
  {
   "cell_type": "code",
   "execution_count": 3,
   "id": "36212723",
   "metadata": {
    "pycharm": {
     "name": "#%%\n"
    }
   },
   "outputs": [],
   "source": [
    "limit_setter = LimitSetter(detector=detector, halo_model=halo_model)"
   ]
  },
  {
   "cell_type": "markdown",
   "id": "6431e8df",
   "metadata": {},
   "source": [
    "To obtain the rates, we need some settings like which masses to compute. \n",
    "\n",
    "On github actions, we check that we can run this notebook, but that doesn't require spending a lot of time so we decrease our requirements then.\n"
   ]
  },
  {
   "cell_type": "code",
   "execution_count": 4,
   "id": "102f6a5d",
   "metadata": {
    "pycharm": {
     "name": "#%%\n"
    }
   },
   "outputs": [],
   "source": [
    "if os.environ.get('PLOT_FAST', False):\n",
    "    mass_range = np.logspace(np.log10(5), np.log10(200), 5)\n",
    "    limit_kw=dict(n_sigma_bins=5, log_sigma_range=(-48, -43))\n",
    "else:\n",
    "    mass_range = np.logspace(np.log10(5), np.log10(1000), 100)\n",
    "    limit_kw=dict(n_sigma_bins=50, log_sigma_range=(-48, -43))"
   ]
  },
  {
   "cell_type": "code",
   "execution_count": null,
   "id": "711f5a3e",
   "metadata": {
    "pycharm": {
     "name": "#%%\n"
    }
   },
   "outputs": [
    {
     "data": {
      "application/json": {
       "ascii": false,
       "bar_format": null,
       "colour": null,
       "elapsed": 0.02199387550354004,
       "initial": 0,
       "n": 0,
       "ncols": null,
       "nrows": 30,
       "postfix": null,
       "prefix": "Getting limit for masses",
       "rate": null,
       "total": 100,
       "unit": "it",
       "unit_divisor": 1000,
       "unit_scale": false
      },
      "application/vnd.jupyter.widget-view+json": {
       "model_id": "78da1735a514416d8f7f8fc7111e310e",
       "version_major": 2,
       "version_minor": 0
      },
      "text/plain": [
       "Getting limit for masses:   0%|          | 0/100 [00:00<?, ?it/s]"
      ]
     },
     "metadata": {},
     "output_type": "display_data"
    }
   ],
   "source": [
    "limit = limit_setter.set_limits(mass_range = mass_range, **limit_kw)"
   ]
  },
  {
   "cell_type": "code",
   "execution_count": null,
   "id": "93311f15",
   "metadata": {},
   "outputs": [],
   "source": [
    "# halo_model_up = wimprates.StandardHaloModel(v_0=(238+15)*nu.km/nu.s)\n",
    "# halo_model_down = wimprates.StandardHaloModel(v_0=(238-15)*nu.km/nu.s)\n",
    "# limit_up = LimitSetter(detector=detector, halo_model=halo_model_up).set_limits(mass_range = mass_range, **limit_kw)\n",
    "# limit_down = LimitSetter(detector=detector, halo_model=halo_model_down).set_limits(mass_range = mass_range, **limit_kw)"
   ]
  },
  {
   "cell_type": "code",
   "execution_count": null,
   "id": "18cc3cf0",
   "metadata": {
    "pycharm": {
     "name": "#%%\n"
    }
   },
   "outputs": [],
   "source": [
    "alt_model = wimprates.StandardHaloModel(v_0=220*nu.km/nu.s)\n",
    "limit_setter_alt = LimitSetter(\n",
    "    detector=detector, \n",
    "    halo_model=alt_model\n",
    ")"
   ]
  },
  {
   "cell_type": "code",
   "execution_count": null,
   "id": "37eb67cd",
   "metadata": {
    "pycharm": {
     "name": "#%%\n"
    }
   },
   "outputs": [],
   "source": [
    "limit_alt = limit_setter_alt.set_limits(mass_range=mass_range,  **limit_kw)"
   ]
  },
  {
   "cell_type": "markdown",
   "id": "c10f1f4e",
   "metadata": {},
   "source": [
    "Load the LZ limit from their released data as reference"
   ]
  },
  {
   "cell_type": "code",
   "execution_count": null,
   "id": "7eac4625",
   "metadata": {
    "pycharm": {
     "name": "#%%\n"
    }
   },
   "outputs": [],
   "source": [
    "lz_limit = pd.read_table(\n",
    "    os.path.join(thesis_plots.root_folder, 'data', 'lz_limit', 'Fig5_SpinIndependentLimitandSensitivity.txt'),\n",
    "    delimiter=' '\n",
    ")"
   ]
  },
  {
   "cell_type": "markdown",
   "id": "42038ef1",
   "metadata": {},
   "source": [
    "Plot the limit!"
   ]
  },
  {
   "cell_type": "code",
   "execution_count": null,
   "id": "8094cf38",
   "metadata": {
    "pycharm": {
     "name": "#%%\n"
    }
   },
   "outputs": [],
   "source": [
    "kw = dict(lw=3)\n",
    "plt.figure(figsize=(8,6))\n",
    "plt.plot(lz_limit['mass(GeV)'],\n",
    "         lz_limit['median'], \n",
    "         label=mathrm('sensitivity LZ'), \n",
    "         ls='--', \n",
    "         c='k',\n",
    "         **kw,\n",
    "        )\n",
    "plt.plot(lz_limit['mass(GeV)'],\n",
    "         lz_limit['limit(cm2)'], \n",
    "         label=mathrm('limit LZ'), \n",
    "         ls='--', \n",
    "         **kw,\n",
    "        )\n",
    "plt.fill_between(\n",
    "    lz_limit['mass(GeV)'],\n",
    "    lz_limit['-2sigma'],\n",
    "    lz_limit['+2sigma'], \n",
    "    color='darkgreen'\n",
    ")\n",
    "plt.fill_between(\n",
    "    lz_limit['mass(GeV)'],\n",
    "    lz_limit['-1sigma'],\n",
    "    lz_limit['+1sigma'], \n",
    "    color='gold'\n",
    ")\n",
    "\n",
    "plt.plot(mass_range, limit, label='$v_0=238\\ [\\mathrm{km/s}]$', **kw)\n",
    "plt.plot(mass_range, limit_alt, label= '$v_0=220\\ [\\mathrm{km/s}]$', **kw)\n",
    "\n",
    "plt.xscale('log')\n",
    "plt.yscale('log')\n",
    "plt.xlabel('$\\mathrm{M}_\\chi\\ [\\mathrm{GeV}/c^2]$')\n",
    "plt.ylabel('$\\sigma_n\\ [\\mathrm{cm}^2]$')\n",
    "plt.legend(ncol=1)\n",
    "plt.ylim(5*10**-48, 5 * 10**-45)\n",
    "plt.xlim(5, 1000)\n",
    "thesis_plots.save_fig('limit_setting')"
   ]
  },
  {
   "cell_type": "code",
   "execution_count": null,
   "id": "6d79ee88",
   "metadata": {
    "pycharm": {
     "name": "#%%\n"
    }
   },
   "outputs": [],
   "source": [
    "plt.axhline(1, ls='--', c='k')\n",
    "itp = scipy.interpolate.interp1d(mass_range, limit, bounds_error=False)\n",
    "plt.plot(lz_limit['mass(GeV)'], (lz_limit['median'])/(itp(lz_limit['mass(GeV)'])))\n",
    "plt.ylabel(mathrm('LZ-sensitivity / background-free'))\n",
    "plt.xlabel('$\\mathrm{M}_\\chi\\ [\\mathrm{GeV}/c^2]$')\n",
    "plt.xscale('log')"
   ]
  },
  {
   "cell_type": "code",
   "execution_count": null,
   "id": "d907686e",
   "metadata": {},
   "outputs": [],
   "source": []
  },
  {
   "cell_type": "code",
   "execution_count": null,
   "id": "eb16ecbe",
   "metadata": {},
   "outputs": [],
   "source": []
  },
  {
   "cell_type": "code",
   "execution_count": null,
   "id": "19626eca",
   "metadata": {},
   "outputs": [],
   "source": []
  },
  {
   "cell_type": "code",
   "execution_count": null,
   "id": "36048cd9",
   "metadata": {},
   "outputs": [],
   "source": []
  }
 ],
 "metadata": {
  "kernelspec": {
   "display_name": "Python 3 (ipykernel)",
   "language": "python",
   "name": "python3"
  },
  "language_info": {
   "codemirror_mode": {
    "name": "ipython",
    "version": 3
   },
   "file_extension": ".py",
   "mimetype": "text/x-python",
   "name": "python",
   "nbconvert_exporter": "python",
   "pygments_lexer": "ipython3",
   "version": "3.10.4"
  }
 },
 "nbformat": 4,
 "nbformat_minor": 5
}
