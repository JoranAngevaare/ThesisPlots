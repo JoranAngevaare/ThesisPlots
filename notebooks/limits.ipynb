{
 "cells": [
  {
   "cell_type": "markdown",
   "id": "aa1d9641",
   "metadata": {
    "pycharm": {
     "name": "#%% md\n"
    }
   },
   "source": [
    "# LZ Limit setting under different WIMP Halo assumptions\n",
    "in this notebook we use https://arxiv.org/abs/2207.03764 and [`wimprates`](https://github.com/JelleAalbers/wimprates) to calculate no-background limits"
   ]
  },
  {
   "cell_type": "code",
   "execution_count": 1,
   "id": "707324e4",
   "metadata": {
    "pycharm": {
     "name": "#%%\n"
    }
   },
   "outputs": [
    {
     "data": {
      "text/html": [
       "<div>\n",
       "<style scoped>\n",
       "    .dataframe tbody tr th:only-of-type {\n",
       "        vertical-align: middle;\n",
       "    }\n",
       "\n",
       "    .dataframe tbody tr th {\n",
       "        vertical-align: top;\n",
       "    }\n",
       "\n",
       "    .dataframe thead th {\n",
       "        text-align: right;\n",
       "    }\n",
       "</style>\n",
       "<table border=\"1\" class=\"dataframe\">\n",
       "  <thead>\n",
       "    <tr style=\"text-align: right;\">\n",
       "      <th></th>\n",
       "      <th>module</th>\n",
       "      <th>version</th>\n",
       "      <th>path</th>\n",
       "      <th>git</th>\n",
       "    </tr>\n",
       "  </thead>\n",
       "  <tbody>\n",
       "    <tr>\n",
       "      <th>0</th>\n",
       "      <td>python</td>\n",
       "      <td>3.10.4</td>\n",
       "      <td>/home/joran/yes/envs/py3.10/bin/python</td>\n",
       "      <td>None</td>\n",
       "    </tr>\n",
       "    <tr>\n",
       "      <th>1</th>\n",
       "      <td>thesis_plots</td>\n",
       "      <td>1.0.2</td>\n",
       "      <td>/home/joran/software/thesis_plots/thesis_plots</td>\n",
       "      <td>branch:cache_results | dc0741a</td>\n",
       "    </tr>\n",
       "    <tr>\n",
       "      <th>2</th>\n",
       "      <td>wimprates</td>\n",
       "      <td>0.4.1</td>\n",
       "      <td>/home/joran/software/wimprates_clean/wimprates</td>\n",
       "      <td>branch:fix_hardcoded_v0 | dc84cbd</td>\n",
       "    </tr>\n",
       "  </tbody>\n",
       "</table>\n",
       "</div>"
      ],
      "text/plain": [
       "         module version                                            path  \\\n",
       "0        python  3.10.4          /home/joran/yes/envs/py3.10/bin/python   \n",
       "1  thesis_plots   1.0.2  /home/joran/software/thesis_plots/thesis_plots   \n",
       "2     wimprates   0.4.1  /home/joran/software/wimprates_clean/wimprates   \n",
       "\n",
       "                                 git  \n",
       "0                               None  \n",
       "1     branch:cache_results | dc0741a  \n",
       "2  branch:fix_hardcoded_v0 | dc84cbd  "
      ]
     },
     "execution_count": 1,
     "metadata": {},
     "output_type": "execute_result"
    }
   ],
   "source": [
    "import scipy.stats\n",
    "import numpy as np\n",
    "import matplotlib.pyplot as plt\n",
    "import pandas as pd\n",
    "import wimprates\n",
    "import os\n",
    "\n",
    "import thesis_plots\n",
    "from thesis_plots import mathrm\n",
    "from thesis_plots.recoil_rates import nu, LimitSetter, LZ\n",
    "\n",
    "# Make plots in preferred style using latex, but can safely be disabled\n",
    "thesis_plots.setup_plt()\n",
    "thesis_plots.print_versions(\n",
    "    'thesis_plots wimprates'.split(),\n",
    "    return_string=False,\n",
    "    print_output=False,\n",
    "    )"
   ]
  },
  {
   "cell_type": "markdown",
   "id": "be745e78",
   "metadata": {
    "pycharm": {
     "name": "#%% md\n"
    }
   },
   "source": [
    "# Set limits\n",
    "For this we need two things:\n",
    " - a detector with some exposure, detector response (efficiency x ROI)\n",
    " - a model of the expected wimp rates"
   ]
  },
  {
   "cell_type": "code",
   "execution_count": 2,
   "id": "9f85631b",
   "metadata": {
    "pycharm": {
     "name": "#%%\n"
    }
   },
   "outputs": [],
   "source": [
    "detector = LZ()\n",
    "benchmark_model = dict(v_0=238*nu.km/nu.s, \n",
    "                       v_esc=544*nu.km/nu.s,\n",
    "                       rho_dm=0.3* nu.GeV/nu.c0**2 / nu.cm**3\n",
    "                      )\n",
    "halo_model = thesis_plots.StandardHaloModelReadable(**benchmark_model)"
   ]
  },
  {
   "cell_type": "code",
   "execution_count": 3,
   "id": "36212723",
   "metadata": {
    "pycharm": {
     "name": "#%%\n"
    }
   },
   "outputs": [],
   "source": [
    "limit_setter = LimitSetter(detector=detector, halo_model=halo_model)"
   ]
  },
  {
   "cell_type": "markdown",
   "id": "90f666a3",
   "metadata": {
    "pycharm": {
     "name": "#%% md\n"
    }
   },
   "source": [
    "we need the acceptance of signal as function of recoil energy to account for things like the energy threshold"
   ]
  },
  {
   "cell_type": "code",
   "execution_count": 4,
   "id": "7e35dfa1",
   "metadata": {
    "pycharm": {
     "name": "#%%\n"
    }
   },
   "outputs": [
    {
     "data": {
      "image/png": "[encoded data removed]",
      "text/plain": [
       "<Figure size 600x300 with 1 Axes>"
      ]
     },
     "metadata": {},
     "output_type": "display_data"
    }
   ],
   "source": [
    "energy_kev = np.linspace(*detector.e_roi, 100)\n",
    "plt.figure(figsize=(6,3))\n",
    "plt.plot(energy_kev, detector.combined_efficiency(energy_kev), marker='')\n",
    "plt.xlim(*detector.e_roi)\n",
    "plt.ylim(0,1)\n",
    "plt.xlabel('$E_\\mathrm{nr}$ ' + mathrm('[keV_{nr}]'))\n",
    "plt.ylabel(mathrm('Combined effiency'))\n",
    "thesis_plots.save_fig('LZ_combined_efficiency')"
   ]
  },
  {
   "cell_type": "code",
   "execution_count": null,
   "id": "3553e5fc",
   "metadata": {},
   "outputs": [],
   "source": []
  },
  {
   "cell_type": "markdown",
   "id": "d5c0d494",
   "metadata": {
    "pycharm": {
     "name": "#%% md\n"
    }
   },
   "source": [
    "To obtain the rates, we need some settings like which masses to compute. \n",
    "\n",
    "On github actions, we check that we can run this notebook, but that doesn't require spending a lot of time so we decrease our requirements then.\n"
   ]
  },
  {
   "cell_type": "code",
   "execution_count": 5,
   "id": "102f6a5d",
   "metadata": {
    "pycharm": {
     "name": "#%%\n"
    }
   },
   "outputs": [],
   "source": [
    "if os.environ.get('PLOT_FAST', False):\n",
    "    mass_range = np.logspace(np.log10(5), np.log10(200), 5)\n",
    "    limit_kw=dict(n_sigma_bins=5, log_sigma_range=(-48, -43))\n",
    "else:\n",
    "    # Normally, you run this, which takes about ~2.5 m/limit\n",
    "    # If you want nice smooth plots, set n_sigma_bins to a large number, we use \n",
    "    # it to interpolate between to get the 90% conf. interval\n",
    "    # n_masses dictates the number of mass-points to evaluate\n",
    "    n_masses = 500\n",
    "    n_sigma_bins = 150\n",
    "    mass_range = np.logspace(np.log10(5), np.log10(1000), n_masses)\n",
    "    limit_kw=dict(n_sigma_bins=n_sigma_bins, log_sigma_range=(-48, -44))"
   ]
  },
  {
   "cell_type": "code",
   "execution_count": null,
   "id": "711f5a3e",
   "metadata": {
    "pycharm": {
     "name": "#%%\n"
    }
   },
   "outputs": [],
   "source": []
  },
  {
   "cell_type": "code",
   "execution_count": 6,
   "id": "18cc3cf0",
   "metadata": {
    "pycharm": {
     "name": "#%%\n"
    }
   },
   "outputs": [],
   "source": [
    "alt_v0 = thesis_plots.StandardHaloModelReadable(**dict(benchmark_model, **dict(v_0=220*nu.km/nu.s)))\n",
    "alt_vesc = thesis_plots.StandardHaloModelReadable(**dict(benchmark_model, **dict(v_esc=528*nu.km/nu.s)))\n",
    "alt_rho = thesis_plots.StandardHaloModelReadable(**dict(benchmark_model, **dict(rho_dm=0.4* nu.GeV/nu.c0**2 / nu.cm**3)))\n",
    "\n",
    "def get_alt_limit(alt_model, _cache=True):\n",
    "    \"\"\"For a different halo model, get the approprate limit\"\"\"\n",
    "    limit_hash = thesis_plots.deterministic_hash(\n",
    "        {**limit_kw, \n",
    "         **alt_model.settings,\n",
    "         **dict(w_version = thesis_plots.print_versions(['wimprates'], return_string=True, print_output=False,).split('\\n')[-1])\n",
    "        }\n",
    "    )\n",
    "    save_as = os.path.join(thesis_plots.root_folder, 'data', 'lz_limit', 'cached_sensitivities', \n",
    "                           f'sensitivity_{detector.__class__.__name__}_{alt_model.settings_name}_{limit_hash}.csv')\n",
    "    if _cache and os.path.exists(save_as):\n",
    "        return pd.read_csv(save_as)['sensitivity'].values\n",
    "    limit_setter_alt = LimitSetter(detector=detector, halo_model=alt_model)\n",
    "    limit = limit_setter_alt.set_limits(mass_range=mass_range,  **limit_kw)\n",
    "    if _cache:\n",
    "        print(f'Saving {save_as}')\n",
    "        pd.DataFrame(dict(wimp_mass = mass_range, sensitivity=limit)).to_csv(save_as)        \n",
    "    return limit"
   ]
  },
  {
   "cell_type": "code",
   "execution_count": null,
   "id": "37eb67cd",
   "metadata": {
    "pycharm": {
     "name": "#%%\n"
    }
   },
   "outputs": [
    {
     "data": {
      "application/json": {
       "ascii": false,
       "bar_format": null,
       "colour": null,
       "elapsed": 0.027952909469604492,
       "initial": 0,
       "n": 0,
       "ncols": null,
       "nrows": 30,
       "postfix": null,
       "prefix": "Getting limit for masses",
       "rate": null,
       "total": 500,
       "unit": "it",
       "unit_divisor": 1000,
       "unit_scale": false
      },
      "application/vnd.jupyter.widget-view+json": {
       "model_id": "3b84aba1ed5145dbb6cbad896f2fbad8",
       "version_major": 2,
       "version_minor": 0
      },
      "text/plain": [
       "Getting limit for masses:   0%|          | 0/500 [00:00<?, ?it/s]"
      ]
     },
     "metadata": {},
     "output_type": "display_data"
    }
   ],
   "source": [
    "%%time\n",
    "limit = get_alt_limit(halo_model)\n",
    "limit_alt_v0 = get_alt_limit(alt_v0)\n",
    "limit_alt_vesc = get_alt_limit(alt_vesc)\n",
    "limit_alt_rho = get_alt_limit(alt_rho)"
   ]
  },
  {
   "cell_type": "code",
   "execution_count": null,
   "id": "191dff49",
   "metadata": {},
   "outputs": [],
   "source": []
  },
  {
   "cell_type": "markdown",
   "id": "a3d8283e",
   "metadata": {
    "pycharm": {
     "name": "#%% md\n"
    }
   },
   "source": [
    "Load the LZ limit from their released data as reference"
   ]
  },
  {
   "cell_type": "code",
   "execution_count": null,
   "id": "7eac4625",
   "metadata": {
    "pycharm": {
     "name": "#%%\n"
    }
   },
   "outputs": [],
   "source": [
    "lz_limit = pd.read_table(\n",
    "    os.path.join(thesis_plots.root_folder, 'data', 'lz_limit', 'Fig5_SpinIndependentLimitandSensitivity.txt'),\n",
    "    delimiter=' '\n",
    ")"
   ]
  },
  {
   "cell_type": "markdown",
   "id": "a4869118",
   "metadata": {
    "pycharm": {
     "name": "#%% md\n"
    }
   },
   "source": [
    "Plot the limit!"
   ]
  },
  {
   "cell_type": "code",
   "execution_count": null,
   "id": "8094cf38",
   "metadata": {
    "pycharm": {
     "name": "#%%\n"
    }
   },
   "outputs": [],
   "source": [
    "kw = dict(marker='')\n",
    "_, axes = plt.subplots(\n",
    "    2, 1, \n",
    "    sharex=True,\n",
    "    figsize=(8,8),\n",
    "    gridspec_kw={'height_ratios': [6, 3]})\n",
    "plt.sca(axes[0])\n",
    "# LZ lines\n",
    "plt.plot(lz_limit['mass(GeV)'], lz_limit['median'], label=mathrm('Median sensitivity LZ'),  ls='--',  c='k', **kw,)\n",
    "plt.fill_between(lz_limit['mass(GeV)'], lz_limit['-2sigma'], lz_limit['+2sigma'], color='darkgreen')\n",
    "plt.fill_between(lz_limit['mass(GeV)'], lz_limit['-1sigma'], lz_limit['+1sigma'], color='gold')\n",
    "\n",
    "# BG-free lines\n",
    "plt.plot(mass_range, limit, label=mathrm('No-background sensitivity'), **kw, zorder=3)\n",
    "plt.plot(mass_range, limit_alt_v0, label= mathrm('for ') + '$v_0:\\ 238\\\\to220\\ [\\mathrm{km/s}]$', **kw,)\n",
    "plt.plot(mass_range, limit_alt_vesc, label= mathrm('for ') +'$v_{esc}:\\ 544\\\\to528\\ [\\mathrm{km/s}]$', **kw,)\n",
    "plt.plot(mass_range, limit_alt_rho, label = mathrm('for ') +'$\\\\rho_0: \\ 0.3\\\\to0.4\\ [\\mathrm{GeV/cm^3}]$', **kw,)\n",
    "\n",
    "# Top panel settings\n",
    "plt.xscale('log')\n",
    "plt.yscale('log')\n",
    "plt.ylabel('$\\sigma_n\\ [\\mathrm{cm}^2]$')\n",
    "plt.legend(ncol=1, loc='upper right')\n",
    "plt.ylim(5*10**-48, 10**-45)\n",
    "# plt.ylim(10**-47, 3*10**-46)\n",
    "plt.xlim(5, 1000)\n",
    "plt.xscale('log')\n",
    "\n",
    "# Bottom panel\n",
    "\n",
    "plt.sca(axes[1])\n",
    "# Skip the LZ sens\n",
    "itp = scipy.interpolate.interp1d(lz_limit['mass(GeV)'], lz_limit['median'], bounds_error=False)\n",
    "plt.plot(mass_range, itp(mass_range)/limit, **kw, c='k',ls='--')\n",
    "plt.plot(mass_range, limit/limit, **kw, zorder=3)\n",
    "plt.plot(mass_range, limit_alt_v0/limit,**kw)\n",
    "plt.plot(mass_range, limit_alt_vesc/limit, **kw)\n",
    "plt.plot(mass_range, limit_alt_rho/limit,**kw)\n",
    "\n",
    "# settings\n",
    "plt.ylabel('$\\\\frac{\\\\mathrm{Alternate\\ sensitivity}}{\\\\mathrm{No\\ bg.\\ sensitivity}}$')\n",
    "plt.xlabel('$M_\\chi\\ [\\mathrm{GeV}/c^2]$')\n",
    "plt.subplots_adjust(hspace=0.)\n",
    "# plt.ylim(.5, 1.75)\n",
    "plt.yticks([0.6, 0.8, 1, 1.2, 1.4, 1.6, 1.8           ])\n",
    "#Save\n",
    "plt.ylim(0.6, 1.95)\n",
    "text_x = 900\n",
    "plt.annotate('Excludes less', \n",
    "             xy=(text_x, 1.4),  \n",
    "             xycoords='data',\n",
    "             xytext=(text_x, 1.07), \n",
    "             textcoords='data',\n",
    "             fontsize=12,\n",
    "             arrowprops=dict(facecolor='black', shrink=0.05),\n",
    "             horizontalalignment='right', \n",
    "             verticalalignment='bottom',\n",
    "            )\n",
    "plt.annotate('Excludes more', \n",
    "             xy=(text_x, 0.6),  \n",
    "             xycoords='data',\n",
    "             xytext=(text_x, 0.93), \n",
    "             textcoords='data',\n",
    "             fontsize=12,\n",
    "             arrowprops=dict(facecolor='black', shrink=0.05),\n",
    "             horizontalalignment='right', \n",
    "             verticalalignment='top',\n",
    "            )\n",
    "\n",
    "thesis_plots.save_fig('limit_setting')"
   ]
  },
  {
   "cell_type": "code",
   "execution_count": null,
   "id": "6d79ee88",
   "metadata": {
    "pycharm": {
     "name": "#%%\n"
    }
   },
   "outputs": [],
   "source": [
    "plt.axhline(1, ls='--', c='k')\n",
    "itp = scipy.interpolate.interp1d(lz_limit['mass(GeV)'], lz_limit['median'], bounds_error=False)\n",
    "plt.plot(mass_range, itp(mass_range)/limit, **kw, c='k',ls='--')\n",
    "plt.ylabel(mathrm('LZ-sensitivity / background-free'))\n",
    "plt.xlabel('$M_\\chi\\ [\\mathrm{GeV}/c^2]$')\n",
    "plt.xscale('log')"
   ]
  },
  {
   "cell_type": "code",
   "execution_count": null,
   "id": "01c16484",
   "metadata": {},
   "outputs": [],
   "source": []
  }
 ],
 "metadata": {
  "kernelspec": {
   "display_name": "Python 3 (ipykernel)",
   "language": "python",
   "name": "python3"
  },
  "language_info": {
   "codemirror_mode": {
    "name": "ipython",
    "version": 3
   },
   "file_extension": ".py",
   "mimetype": "text/x-python",
   "name": "python",
   "nbconvert_exporter": "python",
   "pygments_lexer": "ipython3",
   "version": "3.10.4"
  }
 },
 "nbformat": 4,
 "nbformat_minor": 5
}
