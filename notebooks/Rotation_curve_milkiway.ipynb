{
 "cells": [
  {
   "cell_type": "markdown",
   "id": "a537c7a7",
   "metadata": {
    "pycharm": {
     "name": "#%% md\n"
    }
   },
   "source": [
    "https://github.com/henrysky/milkyway_plot\n",
    "\n",
    "https://github.com/MariusCautun/Milky_Way_mass_profile"
   ]
  },
  {
   "cell_type": "code",
   "execution_count": 1,
   "id": "bcc1540a",
   "metadata": {
    "pycharm": {
     "name": "#%%\n"
    }
   },
   "outputs": [],
   "source": [
    "# !pip install astropy mw_plot"
   ]
  },
  {
   "cell_type": "code",
   "execution_count": 2,
   "id": "c1a21cd1",
   "metadata": {
    "pycharm": {
     "name": "#%%\n"
    }
   },
   "outputs": [
    {
     "data": {
      "text/html": [
       "<div>\n",
       "<style scoped>\n",
       "    .dataframe tbody tr th:only-of-type {\n",
       "        vertical-align: middle;\n",
       "    }\n",
       "\n",
       "    .dataframe tbody tr th {\n",
       "        vertical-align: top;\n",
       "    }\n",
       "\n",
       "    .dataframe thead th {\n",
       "        text-align: right;\n",
       "    }\n",
       "</style>\n",
       "<table border=\"1\" class=\"dataframe\">\n",
       "  <thead>\n",
       "    <tr style=\"text-align: right;\">\n",
       "      <th></th>\n",
       "      <th>module</th>\n",
       "      <th>version</th>\n",
       "      <th>path</th>\n",
       "      <th>git</th>\n",
       "    </tr>\n",
       "  </thead>\n",
       "  <tbody>\n",
       "    <tr>\n",
       "      <th>0</th>\n",
       "      <td>python</td>\n",
       "      <td>3.10.4</td>\n",
       "      <td>/home/joran/miniconda3/envs/py3.10/bin/python</td>\n",
       "      <td>None</td>\n",
       "    </tr>\n",
       "    <tr>\n",
       "      <th>1</th>\n",
       "      <td>numpy</td>\n",
       "      <td>1.21.6</td>\n",
       "      <td>/home/joran/miniconda3/envs/py3.10/lib/python3...</td>\n",
       "      <td>None</td>\n",
       "    </tr>\n",
       "    <tr>\n",
       "      <th>2</th>\n",
       "      <td>astropy</td>\n",
       "      <td>5.0.4</td>\n",
       "      <td>/home/joran/miniconda3/envs/py3.10/lib/python3...</td>\n",
       "      <td>None</td>\n",
       "    </tr>\n",
       "    <tr>\n",
       "      <th>3</th>\n",
       "      <td>mw_plot</td>\n",
       "      <td>0.9.0</td>\n",
       "      <td>/home/joran/miniconda3/envs/py3.10/lib/python3...</td>\n",
       "      <td>None</td>\n",
       "    </tr>\n",
       "    <tr>\n",
       "      <th>4</th>\n",
       "      <td>galpy</td>\n",
       "      <td>1.7.2</td>\n",
       "      <td>/home/joran/miniconda3/envs/py3.10/lib/python3...</td>\n",
       "      <td>None</td>\n",
       "    </tr>\n",
       "    <tr>\n",
       "      <th>5</th>\n",
       "      <td>thesis_plots</td>\n",
       "      <td>0.1.2</td>\n",
       "      <td>/home/joran/software/thesis/thesis_plots/thesi...</td>\n",
       "      <td>branch:master | 5b82d22</td>\n",
       "    </tr>\n",
       "  </tbody>\n",
       "</table>\n",
       "</div>"
      ],
      "text/plain": [
       "         module version                                               path  \\\n",
       "0        python  3.10.4      /home/joran/miniconda3/envs/py3.10/bin/python   \n",
       "1         numpy  1.21.6  /home/joran/miniconda3/envs/py3.10/lib/python3...   \n",
       "2       astropy   5.0.4  /home/joran/miniconda3/envs/py3.10/lib/python3...   \n",
       "3       mw_plot   0.9.0  /home/joran/miniconda3/envs/py3.10/lib/python3...   \n",
       "4         galpy   1.7.2  /home/joran/miniconda3/envs/py3.10/lib/python3...   \n",
       "5  thesis_plots   0.1.2  /home/joran/software/thesis/thesis_plots/thesi...   \n",
       "\n",
       "                       git  \n",
       "0                     None  \n",
       "1                     None  \n",
       "2                     None  \n",
       "3                     None  \n",
       "4                     None  \n",
       "5  branch:master | 5b82d22  "
      ]
     },
     "execution_count": 2,
     "metadata": {},
     "output_type": "execute_result"
    }
   ],
   "source": [
    "# import straxen\n",
    "# straxen.print_versions('numpy astropy mw_plot galpy thesis_plots'.split())"
   ]
  },
  {
   "cell_type": "code",
   "execution_count": 3,
   "id": "7d6b18bc",
   "metadata": {
    "pycharm": {
     "name": "#%%\n"
    }
   },
   "outputs": [],
   "source": [
    "import thesis_plots\n",
    "import matplotlib.pyplot as plt"
   ]
  },
  {
   "cell_type": "code",
   "execution_count": null,
   "id": "ea1effe7",
   "metadata": {
    "scrolled": false,
    "pycharm": {
     "name": "#%%\n"
    }
   },
   "outputs": [
    {
     "name": "stdout",
     "output_type": "stream",
     "text": [
      "/home/joran/miniconda3/envs/py3.10/lib/python3.10/site-packages/galpy/util/bovy_conversion.py:6: FutureWarning: galpy.util.bovy_conversion is being deprecated in favor of galpy.util.conversion; all functions in there are the same; please switch to the new import, because the old import will be removed in v1.9\n",
      "  warnings.warn('galpy.util.bovy_conversion is being deprecated in favor of galpy.util.conversion; all functions in there are the same; please switch to the new import, because the old import will be removed in v1.9',FutureWarning)\n",
      "\n"
     ]
    }
   ],
   "source": [
    "thesis_plots.combined_milkiway_plot()\n",
    "# plt.savefig('../figures/rot_curve_mw.pdf', dpi=200,  bbox_inches=\"tight\")"
   ]
  },
  {
   "cell_type": "code",
   "execution_count": null,
   "id": "5a711f70",
   "metadata": {
    "pycharm": {
     "name": "#%%\n"
    }
   },
   "outputs": [],
   "source": []
  }
 ],
 "metadata": {
  "kernelspec": {
   "display_name": "Python 3 (ipykernel)",
   "language": "python",
   "name": "python3"
  },
  "language_info": {
   "codemirror_mode": {
    "name": "ipython",
    "version": 3
   },
   "file_extension": ".py",
   "mimetype": "text/x-python",
   "name": "python",
   "nbconvert_exporter": "python",
   "pygments_lexer": "ipython3",
   "version": "3.10.4"
  }
 },
 "nbformat": 4,
 "nbformat_minor": 5
}