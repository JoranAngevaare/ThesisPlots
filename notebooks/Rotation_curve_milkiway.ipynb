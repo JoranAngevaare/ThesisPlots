{
 "cells": [
  {
   "cell_type": "markdown",
   "id": "a537c7a7",
   "metadata": {
    "pycharm": {
     "name": "#%% md\n"
    }
   },
   "source": [
    "https://github.com/henrysky/milkyway_plot\n",
    "\n",
    "https://github.com/MariusCautun/Milky_Way_mass_profile"
   ]
  },
  {
   "cell_type": "code",
   "execution_count": null,
   "id": "bcc1540a",
   "metadata": {
    "pycharm": {
     "name": "#%%\n"
    }
   },
   "outputs": [],
   "source": [
    "# !pip install astropy mw_plot"
   ]
  },
  {
   "cell_type": "code",
   "execution_count": null,
   "id": "c1a21cd1",
   "metadata": {
    "pycharm": {
     "name": "#%%\n"
    }
   },
   "outputs": [],
   "source": [
    "import thesis_plots\n",
    "thesis_plots.print_versions(\n",
    "    'thesis_plots astropy mw_plot galpy thesis_plots'.split(),\n",
    "    return_string=False,\n",
    "    print_output=False,\n",
    "    )"
   ]
  },
  {
   "cell_type": "code",
   "execution_count": null,
   "id": "7d6b18bc",
   "metadata": {
    "pycharm": {
     "name": "#%%\n"
    }
   },
   "outputs": [],
   "source": [
    "thesis_plots.setup_plt()"
   ]
  },
  {
   "cell_type": "code",
   "execution_count": null,
   "id": "ea1effe7",
   "metadata": {
    "pycharm": {
     "name": "#%%\n"
    },
    "scrolled": false
   },
   "outputs": [],
   "source": [
    "thesis_plots.combined_milkiway_plot()\n",
    "thesis_plots.save_fig('rot_curve_mw', dpi=200)"
   ]
  },
  {
   "cell_type": "code",
   "execution_count": null,
   "id": "5a711f70",
   "metadata": {
    "pycharm": {
     "name": "#%%\n"
    }
   },
   "outputs": [],
   "source": []
  }
 ],
 "metadata": {
  "kernelspec": {
   "display_name": "Python 3 (ipykernel)",
   "language": "python",
   "name": "python3"
  },
  "language_info": {
   "codemirror_mode": {
    "name": "ipython",
    "version": 3
   },
   "file_extension": ".py",
   "mimetype": "text/x-python",
   "name": "python",
   "nbconvert_exporter": "python",
   "pygments_lexer": "ipython3",
   "version": "3.10.4"
  }
 },
 "nbformat": 4,
 "nbformat_minor": 5
}
