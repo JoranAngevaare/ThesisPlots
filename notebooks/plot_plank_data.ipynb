{
 "cells": [
  {
   "cell_type": "code",
   "execution_count": 118,
   "id": "c1faf91a",
   "metadata": {
    "ExecuteTime": {
     "end_time": "2023-01-17T16:19:26.343977Z",
     "start_time": "2023-01-17T16:19:26.340501Z"
    }
   },
   "outputs": [],
   "source": [
    "import thesis_plots\n",
    "import matplotlib.pyplot as plt\n",
    "import pandas as pd\n",
    "import os\n",
    "import numpy as np\n",
    "from thesis_plots import mathrm"
   ]
  },
  {
   "cell_type": "code",
   "execution_count": 119,
   "id": "e9a08388",
   "metadata": {
    "ExecuteTime": {
     "end_time": "2023-01-17T16:19:26.503930Z",
     "start_time": "2023-01-17T16:19:26.499921Z"
    }
   },
   "outputs": [],
   "source": [
    "def get_df(name):\n",
    "    data = []\n",
    "    with open(\n",
    "        os.path.join(thesis_plots.root_folder, 'data', 'planck',name),\n",
    "        'r') as file:\n",
    "        for l in file:\n",
    "            if l.startswith('#'):\n",
    "                headers = l.split()[1:]\n",
    "                continue\n",
    "    #         print(l.split())\n",
    "    #         break\n",
    "            data.append([float(f) for f in l.split()])\n",
    "    return pd.DataFrame(data, columns=headers)\n"
   ]
  },
  {
   "cell_type": "code",
   "execution_count": 120,
   "id": "d55d08bb",
   "metadata": {
    "ExecuteTime": {
     "end_time": "2023-01-17T16:19:26.792074Z",
     "start_time": "2023-01-17T16:19:26.669561Z"
    }
   },
   "outputs": [
    {
     "name": "stdout",
     "output_type": "stream",
     "text": [
      "COM_PowerSpect_CMB-TT-binned_R3.01.txt\r\n",
      "COM_PowerSpect_CMB-TT-binned_R3.01.txt:Zone.Identifier\r\n",
      "COM_PowerSpect_CMB-TT-full_R3.01.txt\r\n",
      "COM_PowerSpect_CMB-TT-full_R3.01.txt:Zone.Identifier\r\n",
      "COM_PowerSpect_CMB-base-plikHM-TTTEEE-lowl-lowE-lensing-minimum-theory_R3.01.txt\r\n",
      "COM_PowerSpect_CMB-base-plikHM-TTTEEE-lowl-lowE-lensing-minimum-theory_R3.01.txt:Zone.Identifier\r\n",
      "COM_PowerSpect_CMB-base-plikHM-TTTEEE-lowl-lowE-lensing-minimum_R3.01.txt\r\n",
      "COM_PowerSpect_CMB-base-plikHM-TTTEEE-lowl-lowE-lensing-minimum_R3.01.txt:Zone.Identifier\r\n",
      "README.md\r\n"
     ]
    }
   ],
   "source": [
    "!ls ../data/planck"
   ]
  },
  {
   "cell_type": "code",
   "execution_count": 121,
   "id": "6403ac6f",
   "metadata": {
    "ExecuteTime": {
     "end_time": "2023-01-17T16:19:26.819108Z",
     "start_time": "2023-01-17T16:19:26.804522Z"
    }
   },
   "outputs": [],
   "source": [
    "df = pd.concat(\n",
    "    [get_df('COM_PowerSpect_CMB-TT-full_R3.01.txt')[:29], get_df('COM_PowerSpect_CMB-TT-binned_R3.01.txt')]\n",
    ")"
   ]
  },
  {
   "cell_type": "code",
   "execution_count": 122,
   "id": "21843770",
   "metadata": {
    "ExecuteTime": {
     "end_time": "2023-01-17T16:19:26.905535Z",
     "start_time": "2023-01-17T16:19:26.901908Z"
    }
   },
   "outputs": [],
   "source": [
    "data = df.values.T"
   ]
  },
  {
   "cell_type": "code",
   "execution_count": 123,
   "id": "f155f27e",
   "metadata": {
    "ExecuteTime": {
     "end_time": "2023-01-17T16:19:27.046474Z",
     "start_time": "2023-01-17T16:19:27.034626Z"
    }
   },
   "outputs": [],
   "source": [
    "data_fit = get_df('COM_PowerSpect_CMB-base-plikHM-TTTEEE-lowl-lowE-lensing-minimum-theory_R3.01.txt').values.T"
   ]
  },
  {
   "cell_type": "code",
   "execution_count": 124,
   "id": "7ccfd93e",
   "metadata": {
    "ExecuteTime": {
     "end_time": "2023-01-17T16:19:27.177611Z",
     "start_time": "2023-01-17T16:19:27.156235Z"
    }
   },
   "outputs": [
    {
     "data": {
      "text/html": [
       "<div>\n",
       "<style scoped>\n",
       "    .dataframe tbody tr th:only-of-type {\n",
       "        vertical-align: middle;\n",
       "    }\n",
       "\n",
       "    .dataframe tbody tr th {\n",
       "        vertical-align: top;\n",
       "    }\n",
       "\n",
       "    .dataframe thead th {\n",
       "        text-align: right;\n",
       "    }\n",
       "</style>\n",
       "<table border=\"1\" class=\"dataframe\">\n",
       "  <thead>\n",
       "    <tr style=\"text-align: right;\">\n",
       "      <th></th>\n",
       "      <th>L</th>\n",
       "      <th>TT</th>\n",
       "      <th>TE</th>\n",
       "      <th>EE</th>\n",
       "      <th>BB</th>\n",
       "      <th>PP</th>\n",
       "    </tr>\n",
       "  </thead>\n",
       "  <tbody>\n",
       "    <tr>\n",
       "      <th>0</th>\n",
       "      <td>2.0</td>\n",
       "      <td>1016.7300</td>\n",
       "      <td>2.61753</td>\n",
       "      <td>0.030883</td>\n",
       "      <td>0.000002</td>\n",
       "      <td>5.013520e-08</td>\n",
       "    </tr>\n",
       "    <tr>\n",
       "      <th>1</th>\n",
       "      <td>3.0</td>\n",
       "      <td>963.7270</td>\n",
       "      <td>2.93806</td>\n",
       "      <td>0.039690</td>\n",
       "      <td>0.000004</td>\n",
       "      <td>6.099430e-08</td>\n",
       "    </tr>\n",
       "    <tr>\n",
       "      <th>2</th>\n",
       "      <td>4.0</td>\n",
       "      <td>912.6080</td>\n",
       "      <td>2.75866</td>\n",
       "      <td>0.034496</td>\n",
       "      <td>0.000006</td>\n",
       "      <td>7.025920e-08</td>\n",
       "    </tr>\n",
       "    <tr>\n",
       "      <th>3</th>\n",
       "      <td>5.0</td>\n",
       "      <td>874.4770</td>\n",
       "      <td>2.35185</td>\n",
       "      <td>0.023094</td>\n",
       "      <td>0.000009</td>\n",
       "      <td>7.829210e-08</td>\n",
       "    </tr>\n",
       "    <tr>\n",
       "      <th>4</th>\n",
       "      <td>6.0</td>\n",
       "      <td>848.5090</td>\n",
       "      <td>1.89605</td>\n",
       "      <td>0.012951</td>\n",
       "      <td>0.000013</td>\n",
       "      <td>8.530200e-08</td>\n",
       "    </tr>\n",
       "    <tr>\n",
       "      <th>...</th>\n",
       "      <td>...</td>\n",
       "      <td>...</td>\n",
       "      <td>...</td>\n",
       "      <td>...</td>\n",
       "      <td>...</td>\n",
       "      <td>...</td>\n",
       "    </tr>\n",
       "    <tr>\n",
       "      <th>2502</th>\n",
       "      <td>2504.0</td>\n",
       "      <td>77.6127</td>\n",
       "      <td>-2.96537</td>\n",
       "      <td>2.910040</td>\n",
       "      <td>0.000000</td>\n",
       "      <td>0.000000e+00</td>\n",
       "    </tr>\n",
       "    <tr>\n",
       "      <th>2503</th>\n",
       "      <td>2505.0</td>\n",
       "      <td>77.3908</td>\n",
       "      <td>-2.97153</td>\n",
       "      <td>2.913030</td>\n",
       "      <td>0.000000</td>\n",
       "      <td>0.000000e+00</td>\n",
       "    </tr>\n",
       "    <tr>\n",
       "      <th>2504</th>\n",
       "      <td>2506.0</td>\n",
       "      <td>77.1691</td>\n",
       "      <td>-2.97827</td>\n",
       "      <td>2.916090</td>\n",
       "      <td>0.000000</td>\n",
       "      <td>0.000000e+00</td>\n",
       "    </tr>\n",
       "    <tr>\n",
       "      <th>2505</th>\n",
       "      <td>2507.0</td>\n",
       "      <td>76.9485</td>\n",
       "      <td>-2.98537</td>\n",
       "      <td>2.919000</td>\n",
       "      <td>0.000000</td>\n",
       "      <td>0.000000e+00</td>\n",
       "    </tr>\n",
       "    <tr>\n",
       "      <th>2506</th>\n",
       "      <td>2508.0</td>\n",
       "      <td>76.7311</td>\n",
       "      <td>-2.99293</td>\n",
       "      <td>2.921890</td>\n",
       "      <td>0.000000</td>\n",
       "      <td>0.000000e+00</td>\n",
       "    </tr>\n",
       "  </tbody>\n",
       "</table>\n",
       "<p>2507 rows × 6 columns</p>\n",
       "</div>"
      ],
      "text/plain": [
       "           L         TT       TE        EE        BB            PP\n",
       "0        2.0  1016.7300  2.61753  0.030883  0.000002  5.013520e-08\n",
       "1        3.0   963.7270  2.93806  0.039690  0.000004  6.099430e-08\n",
       "2        4.0   912.6080  2.75866  0.034496  0.000006  7.025920e-08\n",
       "3        5.0   874.4770  2.35185  0.023094  0.000009  7.829210e-08\n",
       "4        6.0   848.5090  1.89605  0.012951  0.000013  8.530200e-08\n",
       "...      ...        ...      ...       ...       ...           ...\n",
       "2502  2504.0    77.6127 -2.96537  2.910040  0.000000  0.000000e+00\n",
       "2503  2505.0    77.3908 -2.97153  2.913030  0.000000  0.000000e+00\n",
       "2504  2506.0    77.1691 -2.97827  2.916090  0.000000  0.000000e+00\n",
       "2505  2507.0    76.9485 -2.98537  2.919000  0.000000  0.000000e+00\n",
       "2506  2508.0    76.7311 -2.99293  2.921890  0.000000  0.000000e+00\n",
       "\n",
       "[2507 rows x 6 columns]"
      ]
     },
     "execution_count": 124,
     "metadata": {},
     "output_type": "execute_result"
    }
   ],
   "source": [
    "get_df('COM_PowerSpect_CMB-base-plikHM-TTTEEE-lowl-lowE-lensing-minimum-theory_R3.01.txt')"
   ]
  },
  {
   "cell_type": "code",
   "execution_count": 125,
   "id": "ded9a97d",
   "metadata": {
    "ExecuteTime": {
     "end_time": "2023-01-17T16:19:27.288956Z",
     "start_time": "2023-01-17T16:19:27.285238Z"
    }
   },
   "outputs": [],
   "source": [
    "thesis_plots.setup_plt()"
   ]
  },
  {
   "cell_type": "code",
   "execution_count": 126,
   "id": "cbeae88b",
   "metadata": {
    "ExecuteTime": {
     "end_time": "2023-01-17T16:19:27.422790Z",
     "start_time": "2023-01-17T16:19:27.418480Z"
    }
   },
   "outputs": [],
   "source": [
    "bins = np.unique(np.logspace(np.log10(2), np.log10(2500), 250).astype(int)).astype(float) - 0.5\n"
   ]
  },
  {
   "cell_type": "code",
   "execution_count": 127,
   "id": "8bc4f529",
   "metadata": {
    "ExecuteTime": {
     "end_time": "2023-01-17T16:19:27.819372Z",
     "start_time": "2023-01-17T16:19:27.802275Z"
    }
   },
   "outputs": [],
   "source": [
    "np.average??"
   ]
  },
  {
   "cell_type": "code",
   "execution_count": 128,
   "id": "564bfe2a",
   "metadata": {
    "ExecuteTime": {
     "end_time": "2023-01-17T16:19:28.116644Z",
     "start_time": "2023-01-17T16:19:28.110331Z"
    }
   },
   "outputs": [
    {
     "data": {
      "text/plain": [
       "0.16666666666666666"
      ]
     },
     "execution_count": 128,
     "metadata": {},
     "output_type": "execute_result"
    }
   ],
   "source": [
    "np.average([1,0], weights=[1, 5])"
   ]
  },
  {
   "cell_type": "code",
   "execution_count": 129,
   "id": "22d10382",
   "metadata": {
    "ExecuteTime": {
     "end_time": "2023-01-17T16:19:28.400579Z",
     "start_time": "2023-01-17T16:19:28.396253Z"
    }
   },
   "outputs": [],
   "source": [
    "def bin_data(x, y, yer, bins):\n",
    "    res = defauldict(list)\n",
    "    for b_l, b_r in zip(bins[:-1], bins[1:]):\n",
    "        res['x'] += [b_l + b_r / 2]\n",
    "        rex['dx'] += [b_r - b_l]\n",
    "        mask =  x >= b_l\n",
    "        mask &= x < b_l\n",
    "        res['y'] += [np.average(y[mask], weights=1/y[mask]**2)]\n",
    "        res['dy'] += [np.sum(yerr)/np.sum(mask)]\n",
    "    return res"
   ]
  },
  {
   "cell_type": "code",
   "execution_count": 130,
   "id": "8dd84e05",
   "metadata": {
    "ExecuteTime": {
     "end_time": "2023-01-17T16:19:28.617838Z",
     "start_time": "2023-01-17T16:19:28.604801Z"
    }
   },
   "outputs": [
    {
     "ename": "TypeError",
     "evalue": "bin_data() missing 2 required positional arguments: 'yer' and 'bins'",
     "output_type": "error",
     "traceback": [
      "\u001b[0;31m---------------------------------------------------------------------------\u001b[0m",
      "\u001b[0;31mTypeError\u001b[0m                                 Traceback (most recent call last)",
      "Cell \u001b[0;32mIn [130], line 1\u001b[0m\n\u001b[0;32m----> 1\u001b[0m bin_data(data, data)\n",
      "\u001b[0;31mTypeError\u001b[0m: bin_data() missing 2 required positional arguments: 'yer' and 'bins'"
     ]
    }
   ],
   "source": [
    "bin_data(data, data)"
   ]
  },
  {
   "cell_type": "code",
   "execution_count": 168,
   "id": "65d8d5c9",
   "metadata": {
    "ExecuteTime": {
     "end_time": "2023-01-17T16:30:25.869663Z",
     "start_time": "2023-01-17T16:30:23.062765Z"
    }
   },
   "outputs": [
    {
     "data": {
      "image/png": "[encoded data removed]",
      "text/plain": [
       "<Figure size 900x500 with 1 Axes>"
      ]
     },
     "metadata": {},
     "output_type": "display_data"
    }
   ],
   "source": [
    "plt.figure(figsize=(9,5))\n",
    "kw = dict(ls='', capsize=3, marker='.', markersize=7.5)\n",
    "plt.plot([], [])\n",
    "plt.errorbar(data[0], data[1], yerr=[data[2], data[3]], **kw, label=mathrm('Data'))\n",
    "plt.plot(data_fit[0], data_fit[1], zorder=10, marker='', label='$\\Lambda$'+mathrm('CDM-fit'))\n",
    "\n",
    "# plt.plot(data[0], data[-1])\n",
    "plt.xscale('log')\n",
    "plt.gca().set_xticks(xs:=[2, 5, 10, 30, 100, 1000, 2500], [mathrm(str(i)) for i in xs])\n",
    "plt.axvline(30, ls='--', c='gray') \n",
    "plt.ylabel('$\\mathcal{D}_\\ell^{TT}\\,[\\mu \\mathrm{K}^2]$')\n",
    "plt.xlabel('$\\ell$')\n",
    "handles, labels = plt.gca().get_legend_handles_labels()\n",
    "plt.legend(handles[::-1], labels[::-1], **thesis_plots.legend_kw(ncol=3))\n",
    "plt.ylim(0,6000)\n",
    "plt.gca().set_yticks(range(0,6000,500), minor=True);\n",
    "thesis_plots.save_fig('planck_cdm')"
   ]
  },
  {
   "cell_type": "code",
   "execution_count": null,
   "id": "9ece168c",
   "metadata": {},
   "outputs": [],
   "source": []
  },
  {
   "cell_type": "code",
   "execution_count": null,
   "id": "f9a290ea",
   "metadata": {},
   "outputs": [],
   "source": []
  },
  {
   "cell_type": "code",
   "execution_count": null,
   "id": "a3f2c66a",
   "metadata": {},
   "outputs": [],
   "source": []
  },
  {
   "cell_type": "code",
   "execution_count": null,
   "id": "5a9efdef",
   "metadata": {},
   "outputs": [],
   "source": []
  }
 ],
 "metadata": {
  "kernelspec": {
   "display_name": "Python 3 (ipykernel)",
   "language": "python",
   "name": "python3"
  },
  "language_info": {
   "codemirror_mode": {
    "name": "ipython",
    "version": 3
   },
   "file_extension": ".py",
   "mimetype": "text/x-python",
   "name": "python",
   "nbconvert_exporter": "python",
   "pygments_lexer": "ipython3",
   "version": "3.10.8"
  }
 },
 "nbformat": 4,
 "nbformat_minor": 5
}
